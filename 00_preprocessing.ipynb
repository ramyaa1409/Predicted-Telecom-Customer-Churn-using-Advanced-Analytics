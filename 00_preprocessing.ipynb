{
 "cells": [
  {
   "cell_type": "markdown",
   "metadata": {},
   "source": [
    "# Preprocessing"
   ]
  },
  {
   "cell_type": "markdown",
   "metadata": {},
   "source": [
    "### Environment Setup"
   ]
  },
  {
   "cell_type": "code",
   "execution_count": 1,
   "metadata": {},
   "outputs": [
    {
     "name": "stdout",
     "output_type": "stream",
     "text": [
      "Julia Version 1.10.0\n",
      "Commit 3120989f39b (2023-12-25 18:01 UTC)\n",
      "Build Info:\n",
      "  Official https://julialang.org/ release\n",
      "Platform Info:\n",
      "  OS: macOS (arm64-apple-darwin22.4.0)\n",
      "  CPU: 10 × Apple M1 Pro\n",
      "  WORD_SIZE: 64\n",
      "  LIBM: libopenlibm\n",
      "  LLVM: libLLVM-15.0.7 (ORCJIT, apple-m1)\n",
      "  Threads: 1 on 8 virtual cores\n",
      "Environment:\n",
      "  JULIA_NUM_THREADS = \n"
     ]
    }
   ],
   "source": [
    "versioninfo()"
   ]
  },
  {
   "cell_type": "code",
   "execution_count": 31,
   "metadata": {},
   "outputs": [
    {
     "name": "stderr",
     "output_type": "stream",
     "text": [
      "\u001b[32m\u001b[1m  Activating\u001b[22m\u001b[39m project at `~/Library/CloudStorage/OneDrive-Personal/UCR/academics/winter_24/STAT206/project`\n"
     ]
    },
    {
     "name": "stdout",
     "output_type": "stream",
     "text": [
      "\u001b[32m\u001b[1mStatus\u001b[22m\u001b[39m `~/Library/CloudStorage/OneDrive-Personal/UCR/academics/winter_24/STAT206/project/Project.toml`\n",
      "  \u001b[90m[324d7699] \u001b[39mCategoricalArrays v0.10.8\n",
      "  \u001b[90m[31c24e10] \u001b[39mDistributions v0.25.107\n",
      "  \u001b[90m[89b67f3b] \u001b[39mExcelFiles v1.0.0\n",
      "  \u001b[90m[da1fdf0e] \u001b[39mFreqTables v0.4.6\n",
      "  \u001b[90m[38e38edf] \u001b[39mGLM v1.9.0\n",
      "  \u001b[90m[09f84164] \u001b[39mHypothesisTests v0.11.0\n",
      "  \u001b[90m[c709b415] \u001b[39mImbalance v0.1.5\n",
      "  \u001b[90m[add582a8] \u001b[39mMLJ v0.20.3\n",
      "  \u001b[90m[a7f614a8] \u001b[39mMLJBase v1.1.2\n",
      "  \u001b[90m[caf8df21] \u001b[39mMLJGLMInterface v0.3.7\n",
      "  \u001b[90m[6ee0df7b] \u001b[39mMLJLinearModels v0.10.0\n",
      "  \u001b[90m[d491faf4] \u001b[39mMLJModels v0.16.16\n",
      "  \u001b[90m[03970b2e] \u001b[39mMLJTuning v0.8.2\n",
      "  \u001b[90m[91a5bcdd] \u001b[39mPlots v1.40.2\n",
      "  \u001b[90m[ce6b1742] \u001b[39mRDatasets v0.7.7\n",
      "  \u001b[90m[8e980c4a] \u001b[39mShapefile v0.12.0\n",
      "  \u001b[90m[860ef19b] \u001b[39mStableRNGs v1.0.1\n",
      "  \u001b[90m[2913bbd2] \u001b[39mStatsBase v0.34.2\n",
      "  \u001b[90m[3eaba693] \u001b[39mStatsModels v0.7.3\n",
      "  \u001b[90m[f3b207a7] \u001b[39mStatsPlots v0.15.7\n",
      "  \u001b[90m[9a3f8284] \u001b[39mRandom\n"
     ]
    }
   ],
   "source": [
    "import Pkg\n",
    "Pkg.activate(pwd())\n",
    "Pkg.status()"
   ]
  },
  {
   "cell_type": "markdown",
   "metadata": {},
   "source": [
    "### Importing Libraries"
   ]
  },
  {
   "cell_type": "code",
   "execution_count": 3,
   "metadata": {},
   "outputs": [],
   "source": [
    "# Loading Data\n",
    "using LinearAlgebra, Statistics, StatsBase, HypothesisTests\n",
    "using Distributions, Random, StableRNGs, RDatasets\n",
    "using CSV, DataFrames, FreqTables, CategoricalArrays\n",
    "using Plots, StatsPlots, Shapefile, MLJ, MLJModels, Imbalance"
   ]
  },
  {
   "cell_type": "markdown",
   "metadata": {},
   "source": [
    "### Loading Data"
   ]
  },
  {
   "cell_type": "code",
   "execution_count": 29,
   "metadata": {},
   "outputs": [
    {
     "name": "stdout",
     "output_type": "stream",
     "text": [
      "┌────────────┬───────┬───────────────┬────────────┬─────────────┬──────────┬────────────────────────┬────────────┬────────────┬─────────┬────────────────┬─────────┬────────────┬───────────────┬───────────────┬────────────────┬──────────────────┬─────────────────┬───────────────┬───────────────────┬──────────────┬──────────────┬──────────────────┬────────────────┬───────────────────┬───────────────────────────┬─────────────────┬───────────────┬─────────────┬─────────────┬─────────────┬───────┬───────────────────────────────┐\n",
      "│\u001b[1m CustomerID \u001b[0m│\u001b[1m Count \u001b[0m│\u001b[1m Country       \u001b[0m│\u001b[1m State      \u001b[0m│\u001b[1m City        \u001b[0m│\u001b[1m Zip Code \u001b[0m│\u001b[1m Lat Long               \u001b[0m│\u001b[1m Latitude   \u001b[0m│\u001b[1m Longitude  \u001b[0m│\u001b[1m Gender  \u001b[0m│\u001b[1m Senior Citizen \u001b[0m│\u001b[1m Partner \u001b[0m│\u001b[1m Dependents \u001b[0m│\u001b[1m Tenure Months \u001b[0m│\u001b[1m Phone Service \u001b[0m│\u001b[1m Multiple Lines \u001b[0m│\u001b[1m Internet Service \u001b[0m│\u001b[1m Online Security \u001b[0m│\u001b[1m Online Backup \u001b[0m│\u001b[1m Device Protection \u001b[0m│\u001b[1m Tech Support \u001b[0m│\u001b[1m Streaming TV \u001b[0m│\u001b[1m Streaming Movies \u001b[0m│\u001b[1m Contract       \u001b[0m│\u001b[1m Paperless Billing \u001b[0m│\u001b[1m Payment Method            \u001b[0m│\u001b[1m Monthly Charges \u001b[0m│\u001b[1m Total Charges \u001b[0m│\u001b[1m Churn Label \u001b[0m│\u001b[1m Churn Value \u001b[0m│\u001b[1m Churn Score \u001b[0m│\u001b[1m CLTV  \u001b[0m│\u001b[1m Churn Reason                  \u001b[0m│\n",
      "│\u001b[90m String15   \u001b[0m│\u001b[90m Int64 \u001b[0m│\u001b[90m String15      \u001b[0m│\u001b[90m String15   \u001b[0m│\u001b[90m String31    \u001b[0m│\u001b[90m Int64    \u001b[0m│\u001b[90m String31               \u001b[0m│\u001b[90m Float64    \u001b[0m│\u001b[90m Float64    \u001b[0m│\u001b[90m String7 \u001b[0m│\u001b[90m String3        \u001b[0m│\u001b[90m String3 \u001b[0m│\u001b[90m String3    \u001b[0m│\u001b[90m Int64         \u001b[0m│\u001b[90m String3       \u001b[0m│\u001b[90m String31       \u001b[0m│\u001b[90m String15         \u001b[0m│\u001b[90m String31        \u001b[0m│\u001b[90m String31      \u001b[0m│\u001b[90m String31          \u001b[0m│\u001b[90m String31     \u001b[0m│\u001b[90m String31     \u001b[0m│\u001b[90m String31         \u001b[0m│\u001b[90m String15       \u001b[0m│\u001b[90m String3           \u001b[0m│\u001b[90m String31                  \u001b[0m│\u001b[90m Float64         \u001b[0m│\u001b[90m String7       \u001b[0m│\u001b[90m String3     \u001b[0m│\u001b[90m Int64       \u001b[0m│\u001b[90m Int64       \u001b[0m│\u001b[90m Int64 \u001b[0m│\u001b[90m Union{Missing, String}        \u001b[0m│\n",
      "│\u001b[90m Textual    \u001b[0m│\u001b[90m Count \u001b[0m│\u001b[90m Textual       \u001b[0m│\u001b[90m Textual    \u001b[0m│\u001b[90m Textual     \u001b[0m│\u001b[90m Count    \u001b[0m│\u001b[90m Textual                \u001b[0m│\u001b[90m Continuous \u001b[0m│\u001b[90m Continuous \u001b[0m│\u001b[90m Textual \u001b[0m│\u001b[90m Textual        \u001b[0m│\u001b[90m Textual \u001b[0m│\u001b[90m Textual    \u001b[0m│\u001b[90m Count         \u001b[0m│\u001b[90m Textual       \u001b[0m│\u001b[90m Textual        \u001b[0m│\u001b[90m Textual          \u001b[0m│\u001b[90m Textual         \u001b[0m│\u001b[90m Textual       \u001b[0m│\u001b[90m Textual           \u001b[0m│\u001b[90m Textual      \u001b[0m│\u001b[90m Textual      \u001b[0m│\u001b[90m Textual          \u001b[0m│\u001b[90m Textual        \u001b[0m│\u001b[90m Textual           \u001b[0m│\u001b[90m Textual                   \u001b[0m│\u001b[90m Continuous      \u001b[0m│\u001b[90m Textual       \u001b[0m│\u001b[90m Textual     \u001b[0m│\u001b[90m Count       \u001b[0m│\u001b[90m Count       \u001b[0m│\u001b[90m Count \u001b[0m│\u001b[90m Union{Missing, Textual}       \u001b[0m│\n",
      "├────────────┼───────┼───────────────┼────────────┼─────────────┼──────────┼────────────────────────┼────────────┼────────────┼─────────┼────────────────┼─────────┼────────────┼───────────────┼───────────────┼────────────────┼──────────────────┼─────────────────┼───────────────┼───────────────────┼──────────────┼──────────────┼──────────────────┼────────────────┼───────────────────┼───────────────────────────┼─────────────────┼───────────────┼─────────────┼─────────────┼─────────────┼───────┼───────────────────────────────┤\n",
      "│ 3668-QPYBK │ 1     │ United States │ California │ Los Angeles │ 90003    │ 33.964131, -118.272783 │ 33.9641    │ -118.273   │ Male    │ No             │ No      │ No         │ 2             │ Yes           │ No             │ DSL              │ Yes             │ Yes           │ No                │ No           │ No           │ No               │ Month-to-month │ Yes               │ Mailed check              │ 53.85           │ 108.15        │ Yes         │ 1           │ 86          │ 3239  │ Competitor made better offer  │\n",
      "│ 9237-HQITU │ 1     │ United States │ California │ Los Angeles │ 90005    │ 34.059281, -118.30742  │ 34.0593    │ -118.307   │ Female  │ No             │ No      │ Yes        │ 2             │ Yes           │ No             │ Fiber optic      │ No              │ No            │ No                │ No           │ No           │ No               │ Month-to-month │ Yes               │ Electronic check          │ 70.7            │ 151.65        │ Yes         │ 1           │ 67          │ 2701  │ Moved                         │\n",
      "│ 9305-CDSKC │ 1     │ United States │ California │ Los Angeles │ 90006    │ 34.048013, -118.293953 │ 34.048     │ -118.294   │ Female  │ No             │ No      │ Yes        │ 8             │ Yes           │ Yes            │ Fiber optic      │ No              │ No            │ Yes               │ No           │ Yes          │ Yes              │ Month-to-month │ Yes               │ Electronic check          │ 99.65           │ 820.5         │ Yes         │ 1           │ 86          │ 5372  │ Moved                         │\n",
      "│ 7892-POOKP │ 1     │ United States │ California │ Los Angeles │ 90010    │ 34.062125, -118.315709 │ 34.0621    │ -118.316   │ Female  │ No             │ Yes     │ Yes        │ 28            │ Yes           │ Yes            │ Fiber optic      │ No              │ No            │ Yes               │ Yes          │ Yes          │ Yes              │ Month-to-month │ Yes               │ Electronic check          │ 104.8           │ 3046.05       │ Yes         │ 1           │ 84          │ 5003  │ Moved                         │\n",
      "│ 0280-XJGEX │ 1     │ United States │ California │ Los Angeles │ 90015    │ 34.039224, -118.266293 │ 34.0392    │ -118.266   │ Male    │ No             │ No      │ Yes        │ 49            │ Yes           │ Yes            │ Fiber optic      │ No              │ Yes           │ Yes               │ No           │ Yes          │ Yes              │ Month-to-month │ Yes               │ Bank transfer (automatic) │ 103.7           │ 5036.3        │ Yes         │ 1           │ 89          │ 5340  │ Competitor had better devices │\n",
      "└────────────┴───────┴───────────────┴────────────┴─────────────┴──────────┴────────────────────────┴────────────┴────────────┴─────────┴────────────────┴─────────┴────────────┴───────────────┴───────────────┴────────────────┴──────────────────┴─────────────────┴───────────────┴───────────────────┴──────────────┴──────────────┴──────────────────┴────────────────┴───────────────────┴───────────────────────────┴─────────────────┴───────────────┴─────────────┴─────────────┴─────────────┴───────┴───────────────────────────────┘\n"
     ]
    }
   ],
   "source": [
    "# Load the the data csv file from the /data directory\n",
    "df = DataFrame(CSV.File(\"data/telco.csv\"))\n",
    "\n",
    "# Peek at the first 5 rows of the dataframe\n",
    "first(df, 5) |> pretty"
   ]
  },
  {
   "cell_type": "markdown",
   "metadata": {},
   "source": [
    "### Renaming Columns for Consistency"
   ]
  },
  {
   "cell_type": "code",
   "execution_count": 28,
   "metadata": {},
   "outputs": [
    {
     "ename": "ArgumentError",
     "evalue": "ArgumentError: Tried renaming :CustomerID to :customer_id, when :CustomerID does not exist in the data frame.",
     "output_type": "error",
     "traceback": [
      "ArgumentError: Tried renaming :CustomerID to :customer_id, when :CustomerID does not exist in the data frame.\n",
      "\n",
      "Stacktrace:\n",
      " [1] rename!(x::DataFrames.Index, nms::Vector{Pair{Symbol, Symbol}})\n",
      "   @ DataFrames ~/.julia/packages/DataFrames/58MUJ/src/other/index.jl:91\n",
      " [2] rename!\n",
      "   @ DataFrames ~/.julia/packages/DataFrames/58MUJ/src/abstractdataframe/abstractdataframe.jl:216 [inlined]\n",
      " [3] rename!(df::DataFrame, args::Pair{Symbol, Symbol})\n",
      "   @ DataFrames ~/.julia/packages/DataFrames/58MUJ/src/abstractdataframe/abstractdataframe.jl:253\n",
      " [4] top-level scope\n",
      "   @ ~/Library/CloudStorage/OneDrive-Personal/UCR/academics/winter_24/STAT206/project/00_preprocessing.ipynb:2"
     ]
    }
   ],
   "source": [
    "# Renaming all variables to snake case\n",
    "rename!(df, Symbol(\"CustomerID\") => :customer_id)\n",
    "rename!(df, Symbol(\"Count\") => :count)\n",
    "rename!(df, Symbol(\"Country\") => :country)\n",
    "rename!(df, Symbol(\"State\") => :state)\n",
    "rename!(df, Symbol(\"City\") => :city)\n",
    "rename!(df, Symbol(\"Zip Code\") => :zip_code)\n",
    "rename!(df, Symbol(\"Lat Long\") => :lat_long)\n",
    "rename!(df, Symbol(\"Latitude\") => :latitude)\n",
    "rename!(df, Symbol(\"Longitude\") => :longitude)\n",
    "rename!(df, Symbol(\"Gender\") => :gender)\n",
    "rename!(df, Symbol(\"Senior Citizen\") => :senior_citizen)\n",
    "rename!(df, Symbol(\"Partner\") => :partner)\n",
    "rename!(df, Symbol(\"Dependents\") => :dependents)\n",
    "rename!(df, Symbol(\"Tenure Months\") => :tenure_months)\n",
    "rename!(df, Symbol(\"Phone Service\") => :phone_service)\n",
    "rename!(df, Symbol(\"Multiple Lines\") => :multiple_lines)\n",
    "rename!(df, Symbol(\"Internet Service\") => :internet_service)\n",
    "rename!(df, Symbol(\"Online Security\") => :online_security)\n",
    "rename!(df, Symbol(\"Online Backup\") => :online_backup)\n",
    "rename!(df, Symbol(\"Device Protection\") => :device_protection)\n",
    "rename!(df, Symbol(\"Tech Support\") => :tech_support)\n",
    "rename!(df, Symbol(\"Streaming TV\") => :streaming_tv)\n",
    "rename!(df, Symbol(\"Streaming Movies\") => :streaming_movies)\n",
    "rename!(df, Symbol(\"Contract\") => :contract)\n",
    "rename!(df, Symbol(\"Paperless Billing\") => :paperless_billing)\n",
    "rename!(df, Symbol(\"Payment Method\") => :payment_method)\n",
    "rename!(df, Symbol(\"Monthly Charges\") => :monthly_charges)\n",
    "rename!(df, Symbol(\"Total Charges\") => :total_charges)\n",
    "rename!(df, Symbol(\"Churn Label\") => :churn_label)\n",
    "rename!(df, Symbol(\"Churn Value\") => :churn_value)\n",
    "rename!(df, Symbol(\"Churn Score\") => :churn_score)\n",
    "rename!(df, Symbol(\"CLTV\") => :cltv)\n",
    "rename!(df, Symbol(\"Churn Reason\") => :churn_reason)\n",
    "\n",
    "# Display the first 5 rows of the data\n",
    "first(df, 5) |> pretty"
   ]
  },
  {
   "cell_type": "markdown",
   "metadata": {},
   "source": [
    "### Data Overview"
   ]
  },
  {
   "cell_type": "code",
   "execution_count": 6,
   "metadata": {},
   "outputs": [
    {
     "data": {
      "text/plain": [
       "(7043, 33)"
      ]
     },
     "metadata": {},
     "output_type": "display_data"
    }
   ],
   "source": [
    "# Dimensions of the data\n",
    "size(df)"
   ]
  },
  {
   "cell_type": "markdown",
   "metadata": {},
   "source": [
    "We can see there are 7043 rows and 33 columns in the dataset. However, some columns seem to be redundant and can be dropped."
   ]
  },
  {
   "cell_type": "code",
   "execution_count": 26,
   "metadata": {},
   "outputs": [
    {
     "name": "stdout",
     "output_type": "stream",
     "text": [
      "┌───────────────────┬────────────────────────────┬───────────────────────────────────┬────────────────────────────┬───────────────────────────────────┬──────────┬────────────────────────┐\n",
      "│\u001b[1m variable          \u001b[0m│\u001b[1m mean                       \u001b[0m│\u001b[1m min                               \u001b[0m│\u001b[1m median                     \u001b[0m│\u001b[1m max                               \u001b[0m│\u001b[1m nmissing \u001b[0m│\u001b[1m eltype                 \u001b[0m│\n",
      "│\u001b[90m Symbol            \u001b[0m│\u001b[90m Union{Nothing, Float64}    \u001b[0m│\u001b[90m Any                               \u001b[0m│\u001b[90m Union{Nothing, Float64}    \u001b[0m│\u001b[90m Any                               \u001b[0m│\u001b[90m Int64    \u001b[0m│\u001b[90m Type                   \u001b[0m│\n",
      "│\u001b[90m Unknown           \u001b[0m│\u001b[90m Union{Nothing, Continuous} \u001b[0m│\u001b[90m Union{Continuous, Count, Textual} \u001b[0m│\u001b[90m Union{Nothing, Continuous} \u001b[0m│\u001b[90m Union{Continuous, Count, Textual} \u001b[0m│\u001b[90m Count    \u001b[0m│\u001b[90m Unknown                \u001b[0m│\n",
      "├───────────────────┼────────────────────────────┼───────────────────────────────────┼────────────────────────────┼───────────────────────────────────┼──────────┼────────────────────────┤\n",
      "│ customer_id       │ nothing                    │ 0002-ORFBO                        │ nothing                    │ 9995-HOTOH                        │ 0        │ String15               │\n",
      "│ count             │ 1.0                        │ 1                                 │ 1.0                        │ 1                                 │ 0        │ Int64                  │\n",
      "│ country           │ nothing                    │ United States                     │ nothing                    │ United States                     │ 0        │ String15               │\n",
      "│ state             │ nothing                    │ California                        │ nothing                    │ California                        │ 0        │ String15               │\n",
      "│ city              │ nothing                    │ Acampo                            │ nothing                    │ Zenia                             │ 0        │ String31               │\n",
      "│ zip_code          │ 93523.0                    │ 90001                             │ 93552.5                    │ 96161                             │ 0        │ Int64                  │\n",
      "│ lat_long          │ nothing                    │ 32.555828, -117.040073            │ nothing                    │ 41.962127, -122.527696            │ 0        │ String31               │\n",
      "│ latitude          │ 36.2833                    │ 32.5558                           │ 36.3918                    │ 41.9621                           │ 0        │ Float64                │\n",
      "│ longitude         │ -119.799                   │ -124.301                          │ -119.735                   │ -114.193                          │ 0        │ Float64                │\n",
      "│ gender            │ nothing                    │ Female                            │ nothing                    │ Male                              │ 0        │ String7                │\n",
      "│ senior_citizen    │ nothing                    │ No                                │ nothing                    │ Yes                               │ 0        │ String3                │\n",
      "│ partner           │ nothing                    │ No                                │ nothing                    │ Yes                               │ 0        │ String3                │\n",
      "│ dependents        │ nothing                    │ No                                │ nothing                    │ Yes                               │ 0        │ String3                │\n",
      "│ tenure_months     │ 32.4218                    │ 1                                 │ 29.0                       │ 72                                │ 0        │ Int64                  │\n",
      "│ phone_service     │ nothing                    │ No                                │ nothing                    │ Yes                               │ 0        │ String3                │\n",
      "│ multiple_lines    │ nothing                    │ No                                │ nothing                    │ Yes                               │ 0        │ String31               │\n",
      "│ internet_service  │ nothing                    │ DSL                               │ nothing                    │ No                                │ 0        │ String15               │\n",
      "│ online_security   │ nothing                    │ No                                │ nothing                    │ Yes                               │ 0        │ String31               │\n",
      "│ online_backup     │ nothing                    │ No                                │ nothing                    │ Yes                               │ 0        │ String31               │\n",
      "│ device_protection │ nothing                    │ No                                │ nothing                    │ Yes                               │ 0        │ String31               │\n",
      "│ tech_support      │ nothing                    │ No                                │ nothing                    │ Yes                               │ 0        │ String31               │\n",
      "│ streaming_tv      │ nothing                    │ No                                │ nothing                    │ Yes                               │ 0        │ String31               │\n",
      "│ streaming_movies  │ nothing                    │ No                                │ nothing                    │ Yes                               │ 0        │ String31               │\n",
      "│ contract          │ nothing                    │ Month-to-month                    │ nothing                    │ Two year                          │ 0        │ String15               │\n",
      "│ paperless_billing │ nothing                    │ No                                │ nothing                    │ Yes                               │ 0        │ String3                │\n",
      "│ payment_method    │ nothing                    │ Bank transfer (automatic)         │ nothing                    │ Mailed check                      │ 0        │ String31               │\n",
      "│ monthly_charges   │ 64.7982                    │ 18.25                             │ 70.35                      │ 118.75                            │ 0        │ Float64                │\n",
      "│ total_charges     │ nothing                    │ 100.2                             │ nothing                    │ 999.9                             │ 0        │ String7                │\n",
      "│ churn_label       │ nothing                    │ No                                │ nothing                    │ Yes                               │ 0        │ String3                │\n",
      "│ churn_value       │ 0.265785                   │ 0                                 │ 0.0                        │ 1                                 │ 0        │ Int64                  │\n",
      "│ churn_score       │ 58.7153                    │ 5                                 │ 61.0                       │ 100                               │ 0        │ Int64                  │\n",
      "│ cltv              │ 4401.45                    │ 2003                              │ 4527.5                     │ 6500                              │ 0        │ Int64                  │\n",
      "│ churn_reason      │ nothing                    │ Attitude of service provider      │ nothing                    │ Service dissatisfaction           │ 5163     │ Union{Missing, String} │\n",
      "└───────────────────┴────────────────────────────┴───────────────────────────────────┴────────────────────────────┴───────────────────────────────────┴──────────┴────────────────────────┘\n"
     ]
    }
   ],
   "source": [
    "# Summary of the data\n",
    "describe(df) |> pretty"
   ]
  },
  {
   "cell_type": "markdown",
   "metadata": {},
   "source": [
    "### Checking for Missing Values"
   ]
  },
  {
   "cell_type": "code",
   "execution_count": 8,
   "metadata": {},
   "outputs": [
    {
     "name": "stdout",
     "output_type": "stream",
     "text": [
      "There are 0 missing values in the data\n"
     ]
    }
   ],
   "source": [
    "# Drop observations that have value equal to \" \"\n",
    "df = df[.!(df.total_charges .== \" \"), :]\n",
    "\n",
    "# Checking for missing values\n",
    "missing_vals = [sum(ismissing(df[:, i])) for i in 1:size(df, 2)]\n",
    "\n",
    "# There are no missing values so no need to drop any rows\n",
    "println(\"There are \", sum(missing_vals), \" missing values in the data\")"
   ]
  },
  {
   "cell_type": "markdown",
   "metadata": {},
   "source": [
    "### Removing Redundant Columns.\n",
    "The rationale for removing these columns is pontificated in the final report."
   ]
  },
  {
   "cell_type": "code",
   "execution_count": 25,
   "metadata": {},
   "outputs": [
    {
     "name": "stdout",
     "output_type": "stream",
     "text": [
      "┌────────────┬────────────┬─────────┬────────────────┬─────────┬────────────┬───────────────┬───────────────┬────────────────┬──────────────────┬───────────────────┬──────────────┬────────────────┬───────────────────┬───────────────────────────┬─────────────────┬───────────────┬─────────────┬───────┐\n",
      "│\u001b[1m latitude   \u001b[0m│\u001b[1m longitude  \u001b[0m│\u001b[1m gender  \u001b[0m│\u001b[1m senior_citizen \u001b[0m│\u001b[1m partner \u001b[0m│\u001b[1m dependents \u001b[0m│\u001b[1m tenure_months \u001b[0m│\u001b[1m phone_service \u001b[0m│\u001b[1m multiple_lines \u001b[0m│\u001b[1m internet_service \u001b[0m│\u001b[1m device_protection \u001b[0m│\u001b[1m tech_support \u001b[0m│\u001b[1m contract       \u001b[0m│\u001b[1m paperless_billing \u001b[0m│\u001b[1m payment_method            \u001b[0m│\u001b[1m monthly_charges \u001b[0m│\u001b[1m total_charges \u001b[0m│\u001b[1m churn_value \u001b[0m│\u001b[1m cltv  \u001b[0m│\n",
      "│\u001b[90m Float64    \u001b[0m│\u001b[90m Float64    \u001b[0m│\u001b[90m String7 \u001b[0m│\u001b[90m String3        \u001b[0m│\u001b[90m String3 \u001b[0m│\u001b[90m String3    \u001b[0m│\u001b[90m Int64         \u001b[0m│\u001b[90m String3       \u001b[0m│\u001b[90m String31       \u001b[0m│\u001b[90m String15         \u001b[0m│\u001b[90m String31          \u001b[0m│\u001b[90m String31     \u001b[0m│\u001b[90m String15       \u001b[0m│\u001b[90m String3           \u001b[0m│\u001b[90m String31                  \u001b[0m│\u001b[90m Float64         \u001b[0m│\u001b[90m String7       \u001b[0m│\u001b[90m Int64       \u001b[0m│\u001b[90m Int64 \u001b[0m│\n",
      "│\u001b[90m Continuous \u001b[0m│\u001b[90m Continuous \u001b[0m│\u001b[90m Textual \u001b[0m│\u001b[90m Textual        \u001b[0m│\u001b[90m Textual \u001b[0m│\u001b[90m Textual    \u001b[0m│\u001b[90m Count         \u001b[0m│\u001b[90m Textual       \u001b[0m│\u001b[90m Textual        \u001b[0m│\u001b[90m Textual          \u001b[0m│\u001b[90m Textual           \u001b[0m│\u001b[90m Textual      \u001b[0m│\u001b[90m Textual        \u001b[0m│\u001b[90m Textual           \u001b[0m│\u001b[90m Textual                   \u001b[0m│\u001b[90m Continuous      \u001b[0m│\u001b[90m Textual       \u001b[0m│\u001b[90m Count       \u001b[0m│\u001b[90m Count \u001b[0m│\n",
      "├────────────┼────────────┼─────────┼────────────────┼─────────┼────────────┼───────────────┼───────────────┼────────────────┼──────────────────┼───────────────────┼──────────────┼────────────────┼───────────────────┼───────────────────────────┼─────────────────┼───────────────┼─────────────┼───────┤\n",
      "│ 33.9641    │ -118.273   │ Male    │ No             │ No      │ No         │ 2             │ Yes           │ No             │ DSL              │ No                │ No           │ Month-to-month │ Yes               │ Mailed check              │ 53.85           │ 108.15        │ 1           │ 3239  │\n",
      "│ 34.0593    │ -118.307   │ Female  │ No             │ No      │ Yes        │ 2             │ Yes           │ No             │ Fiber optic      │ No                │ No           │ Month-to-month │ Yes               │ Electronic check          │ 70.7            │ 151.65        │ 1           │ 2701  │\n",
      "│ 34.048     │ -118.294   │ Female  │ No             │ No      │ Yes        │ 8             │ Yes           │ Yes            │ Fiber optic      │ Yes               │ No           │ Month-to-month │ Yes               │ Electronic check          │ 99.65           │ 820.5         │ 1           │ 5372  │\n",
      "│ 34.0621    │ -118.316   │ Female  │ No             │ Yes     │ Yes        │ 28            │ Yes           │ Yes            │ Fiber optic      │ Yes               │ Yes          │ Month-to-month │ Yes               │ Electronic check          │ 104.8           │ 3046.05       │ 1           │ 5003  │\n",
      "│ 34.0392    │ -118.266   │ Male    │ No             │ No      │ Yes        │ 49            │ Yes           │ Yes            │ Fiber optic      │ Yes               │ No           │ Month-to-month │ Yes               │ Bank transfer (automatic) │ 103.7           │ 5036.3        │ 1           │ 5340  │\n",
      "└────────────┴────────────┴─────────┴────────────────┴─────────┴────────────┴───────────────┴───────────────┴────────────────┴──────────────────┴───────────────────┴──────────────┴────────────────┴───────────────────┴───────────────────────────┴─────────────────┴───────────────┴─────────────┴───────┘\n"
     ]
    }
   ],
   "source": [
    "# Columns to remove\n",
    "columns_to_remove = [\n",
    "  :customer_id,\n",
    "  :count,\n",
    "  :country,\n",
    "  :state,\n",
    "  :city,\n",
    "  :zip_code,\n",
    "  :lat_long,\n",
    "  :churn_label,\n",
    "  :churn_score,\n",
    "  :online_security,\n",
    "  :online_backup,\n",
    "  :streaming_tv,\n",
    "  :streaming_movies,\n",
    "  :churn_reason\n",
    "]\n",
    "\n",
    "# Drop the columns_to_remove\n",
    "clean_df = select(df, Not(columns_to_remove))\n",
    "\n",
    "# Summary of the data\n",
    "first(clean_df, 5) |> pretty"
   ]
  },
  {
   "cell_type": "code",
   "execution_count": 10,
   "metadata": {},
   "outputs": [
    {
     "data": {
      "text/plain": [
       "(7032, 19)"
      ]
     },
     "metadata": {},
     "output_type": "display_data"
    }
   ],
   "source": [
    "# Data shape after cleaning\n",
    "size(clean_df)"
   ]
  },
  {
   "cell_type": "markdown",
   "metadata": {},
   "source": [
    "### Save the Cleaned Data"
   ]
  },
  {
   "cell_type": "code",
   "execution_count": 11,
   "metadata": {},
   "outputs": [
    {
     "data": {
      "text/plain": [
       "\"data/telco_cleaned.csv\""
      ]
     },
     "metadata": {},
     "output_type": "display_data"
    }
   ],
   "source": [
    "# Store the cleaned data into a new file\n",
    "CSV.write(\"data/telco_cleaned.csv\", clean_df)"
   ]
  },
  {
   "cell_type": "markdown",
   "metadata": {},
   "source": [
    "### Factorizing Categorical Columns"
   ]
  },
  {
   "cell_type": "code",
   "execution_count": 24,
   "metadata": {},
   "outputs": [
    {
     "name": "stdout",
     "output_type": "stream",
     "text": [
      "┌───────────────────┬────────────────────────────┬───────────────────────────────────────────────────────────────────────┬────────────────────────────┬───────────────────────────────────────────────────────────────────────┬──────────┬────────────────────────────────────┐\n",
      "│\u001b[1m variable          \u001b[0m│\u001b[1m mean                       \u001b[0m│\u001b[1m min                                                                   \u001b[0m│\u001b[1m median                     \u001b[0m│\u001b[1m max                                                                   \u001b[0m│\u001b[1m nmissing \u001b[0m│\u001b[1m eltype                             \u001b[0m│\n",
      "│\u001b[90m Symbol            \u001b[0m│\u001b[90m Union{Nothing, Float64}    \u001b[0m│\u001b[90m Any                                                                   \u001b[0m│\u001b[90m Union{Nothing, Float64}    \u001b[0m│\u001b[90m Any                                                                   \u001b[0m│\u001b[90m Int64    \u001b[0m│\u001b[90m DataType                           \u001b[0m│\n",
      "│\u001b[90m Unknown           \u001b[0m│\u001b[90m Union{Nothing, Continuous} \u001b[0m│\u001b[90m Union{Continuous, Count, Multiclass{3}, Multiclass{2}, Multiclass{4}} \u001b[0m│\u001b[90m Union{Nothing, Continuous} \u001b[0m│\u001b[90m Union{Continuous, Count, Multiclass{3}, Multiclass{2}, Multiclass{4}} \u001b[0m│\u001b[90m Count    \u001b[0m│\u001b[90m Unknown                            \u001b[0m│\n",
      "├───────────────────┼────────────────────────────┼───────────────────────────────────────────────────────────────────────┼────────────────────────────┼───────────────────────────────────────────────────────────────────────┼──────────┼────────────────────────────────────┤\n",
      "│ latitude          │ 7.76019e-16                │ -1.51763                                                              │ 0.0441632                  │ 2.31211                                                               │ 0        │ Float64                            │\n",
      "│ longitude         │ -7.14585e-15               │ -2.08666                                                              │ 0.0295724                  │ 2.59842                                                               │ 0        │ Float64                            │\n",
      "│ gender            │ nothing                    │ Female                                                                │ nothing                    │ Male                                                                  │ 0        │ CategoricalValue{String7, UInt32}  │\n",
      "│ senior_citizen    │ nothing                    │ No                                                                    │ nothing                    │ Yes                                                                   │ 0        │ CategoricalValue{String3, UInt32}  │\n",
      "│ partner           │ nothing                    │ No                                                                    │ nothing                    │ Yes                                                                   │ 0        │ CategoricalValue{String3, UInt32}  │\n",
      "│ dependents        │ nothing                    │ No                                                                    │ nothing                    │ Yes                                                                   │ 0        │ CategoricalValue{String3, UInt32}  │\n",
      "│ tenure_months     │ -3.23341e-16               │ -1.28016                                                              │ -0.139407                  │ 1.61246                                                               │ 0        │ Float64                            │\n",
      "│ phone_service     │ nothing                    │ No                                                                    │ nothing                    │ Yes                                                                   │ 0        │ CategoricalValue{String3, UInt32}  │\n",
      "│ multiple_lines    │ nothing                    │ No                                                                    │ nothing                    │ Yes                                                                   │ 0        │ CategoricalValue{String31, UInt32} │\n",
      "│ internet_service  │ nothing                    │ DSL                                                                   │ nothing                    │ No                                                                    │ 0        │ CategoricalValue{String15, UInt32} │\n",
      "│ device_protection │ nothing                    │ No                                                                    │ nothing                    │ Yes                                                                   │ 0        │ CategoricalValue{String31, UInt32} │\n",
      "│ tech_support      │ nothing                    │ No                                                                    │ nothing                    │ Yes                                                                   │ 0        │ CategoricalValue{String31, UInt32} │\n",
      "│ contract          │ nothing                    │ Month-to-month                                                        │ nothing                    │ Two year                                                              │ 0        │ CategoricalValue{String15, UInt32} │\n",
      "│ paperless_billing │ nothing                    │ No                                                                    │ nothing                    │ Yes                                                                   │ 0        │ CategoricalValue{String3, UInt32}  │\n",
      "│ payment_method    │ nothing                    │ Bank transfer (automatic)                                             │ nothing                    │ Mailed check                                                          │ 0        │ CategoricalValue{String31, UInt32} │\n",
      "│ monthly_charges   │ 8.08354e-17                │ -1.54717                                                              │ 0.184531                   │ 1.79325                                                               │ 0        │ Float64                            │\n",
      "│ total_charges     │ 1.05086e-16                │ -0.998998                                                             │ -0.390787                  │ 2.82406                                                               │ 0        │ Float64                            │\n",
      "│ churn_value       │ 0.265785                   │ 0                                                                     │ 0.0                        │ 1                                                                     │ 0        │ Int64                              │\n",
      "│ cltv              │ 2.42506e-17                │ -2.02843                                                              │ 0.106608                   │ 1.77481                                                               │ 0        │ Float64                            │\n",
      "└───────────────────┴────────────────────────────┴───────────────────────────────────────────────────────────────────────┴────────────────────────────┴───────────────────────────────────────────────────────────────────────┴──────────┴────────────────────────────────────┘\n"
     ]
    }
   ],
   "source": [
    "transform!(clean_df, :gender => categorical => :gender)\n",
    "transform!(clean_df, :senior_citizen => categorical => :senior_citizen)\n",
    "transform!(clean_df, :partner => categorical => :partner)\n",
    "transform!(clean_df, :dependents => categorical => :dependents)\n",
    "transform!(clean_df, :phone_service => categorical => :phone_service)\n",
    "transform!(clean_df, :multiple_lines => categorical => :multiple_lines)\n",
    "transform!(clean_df, :internet_service => categorical => :internet_service)\n",
    "transform!(clean_df, :device_protection => categorical => :device_protection)\n",
    "transform!(clean_df, :tech_support => categorical => :tech_support)\n",
    "transform!(clean_df, :contract => categorical => :contract)\n",
    "transform!(clean_df, :paperless_billing => categorical => :paperless_billing)\n",
    "transform!(clean_df, :payment_method => categorical => :payment_method)\n",
    "\n",
    "describe(clean_df) |> pretty"
   ]
  },
  {
   "cell_type": "markdown",
   "metadata": {},
   "source": [
    "### Standardizing the Numerical Features"
   ]
  },
  {
   "cell_type": "code",
   "execution_count": 13,
   "metadata": {},
   "outputs": [],
   "source": [
    "numerical_columns = [\n",
    "  :latitude,\n",
    "  :longitude,\n",
    "  :tenure_months,\n",
    "  :monthly_charges,\n",
    "  :total_charges,\n",
    "  :cltv\n",
    "]\n",
    "\n",
    "# Parse :total_charges to float64\n",
    "clean_df[!, :total_charges] = parse.(Float64, clean_df[!, :total_charges])\n",
    "\n",
    "# Loop through the numerical columns and convert them to float64\n",
    "for col in numerical_columns\n",
    "  clean_df[!, col] = convert.(Float64, clean_df[!, col])\n",
    "end\n",
    "\n",
    "# Standardize the numerical columns\n",
    "for col in numerical_columns\n",
    "  μ = mean(clean_df[!, col])\n",
    "  σ = std(clean_df[!, col])\n",
    "  clean_df[!, col] = (clean_df[!, col] .- μ) ./ σ\n",
    "end"
   ]
  },
  {
   "cell_type": "markdown",
   "metadata": {},
   "source": [
    "### One-Hot Encoding the Categorical Features"
   ]
  },
  {
   "cell_type": "code",
   "execution_count": 14,
   "metadata": {},
   "outputs": [
    {
     "data": {
      "text/plain": [
       "┌────────────────────────────────────────┬────────────┬─────────┐\n",
       "│\u001b[22m names                                  \u001b[0m│\u001b[22m scitypes   \u001b[0m│\u001b[22m types   \u001b[0m│\n",
       "├────────────────────────────────────────┼────────────┼─────────┤\n",
       "│ latitude                               │ Continuous │ Float64 │\n",
       "│ longitude                              │ Continuous │ Float64 │\n",
       "│ gender__Female                         │ Continuous │ Float64 │\n",
       "│ gender__Male                           │ Continuous │ Float64 │\n",
       "│ senior_citizen__No                     │ Continuous │ Float64 │\n",
       "│ senior_citizen__Yes                    │ Continuous │ Float64 │\n",
       "│ partner__No                            │ Continuous │ Float64 │\n",
       "│ partner__Yes                           │ Continuous │ Float64 │\n",
       "│ dependents__No                         │ Continuous │ Float64 │\n",
       "│ dependents__Yes                        │ Continuous │ Float64 │\n",
       "│ tenure_months                          │ Continuous │ Float64 │\n",
       "│ phone_service__No                      │ Continuous │ Float64 │\n",
       "│ phone_service__Yes                     │ Continuous │ Float64 │\n",
       "│ multiple_lines__No                     │ Continuous │ Float64 │\n",
       "│ multiple_lines__No phone service       │ Continuous │ Float64 │\n",
       "│ multiple_lines__Yes                    │ Continuous │ Float64 │\n",
       "│                   ⋮                    │     ⋮      │    ⋮    │\n",
       "└────────────────────────────────────────┴────────────┴─────────┘\n",
       "\u001b[36m                                                  22 rows omitted\u001b[0m\n"
      ]
     },
     "metadata": {},
     "output_type": "display_data"
    }
   ],
   "source": [
    "hot_encode = fit!(machine(OneHotEncoder(), clean_df), verbosity = 0)\n",
    "\n",
    "# apply the dummy coding scheme; note that we qualify `transform`\n",
    "clean_df_hot_encoded = MLJ.transform(hot_encode, clean_df)\n",
    "\n",
    "# check\n",
    "schema(clean_df_hot_encoded)"
   ]
  },
  {
   "cell_type": "markdown",
   "metadata": {},
   "source": [
    "### Checking for Outliers or Anomalies"
   ]
  },
  {
   "cell_type": "code",
   "execution_count": 15,
   "metadata": {},
   "outputs": [
    {
     "name": "stdout",
     "output_type": "stream",
     "text": [
      "┌───────────────────────────────────────────┬──────────────┬──────────────────────────┬────────────┬──────────────────────────┬──────────┬──────────┐\n",
      "│\u001b[1m variable                                  \u001b[0m│\u001b[1m mean         \u001b[0m│\u001b[1m min                      \u001b[0m│\u001b[1m median     \u001b[0m│\u001b[1m max                      \u001b[0m│\u001b[1m nmissing \u001b[0m│\u001b[1m eltype   \u001b[0m│\n",
      "│\u001b[90m Symbol                                    \u001b[0m│\u001b[90m Float64      \u001b[0m│\u001b[90m Real                     \u001b[0m│\u001b[90m Float64    \u001b[0m│\u001b[90m Real                     \u001b[0m│\u001b[90m Int64    \u001b[0m│\u001b[90m DataType \u001b[0m│\n",
      "│\u001b[90m Unknown                                   \u001b[0m│\u001b[90m Continuous   \u001b[0m│\u001b[90m Union{Continuous, Count} \u001b[0m│\u001b[90m Continuous \u001b[0m│\u001b[90m Union{Continuous, Count} \u001b[0m│\u001b[90m Count    \u001b[0m│\u001b[90m Unknown  \u001b[0m│\n",
      "├───────────────────────────────────────────┼──────────────┼──────────────────────────┼────────────┼──────────────────────────┼──────────┼──────────┤\n",
      "│ latitude                                  │ 7.76019e-16  │ -1.51763                 │ 0.0441632  │ 2.31211                  │ 0        │ Float64  │\n",
      "│ longitude                                 │ -7.14585e-15 │ -2.08666                 │ 0.0295724  │ 2.59842                  │ 0        │ Float64  │\n",
      "│ gender__Female                            │ 0.495307     │ 0.0                      │ 0.0        │ 1.0                      │ 0        │ Float64  │\n",
      "│ gender__Male                              │ 0.504693     │ 0.0                      │ 1.0        │ 1.0                      │ 0        │ Float64  │\n",
      "│ senior_citizen__No                        │ 0.8376       │ 0.0                      │ 1.0        │ 1.0                      │ 0        │ Float64  │\n",
      "│ senior_citizen__Yes                       │ 0.1624       │ 0.0                      │ 0.0        │ 1.0                      │ 0        │ Float64  │\n",
      "│ partner__No                               │ 0.517491     │ 0.0                      │ 1.0        │ 1.0                      │ 0        │ Float64  │\n",
      "│ partner__Yes                              │ 0.482509     │ 0.0                      │ 0.0        │ 1.0                      │ 0        │ Float64  │\n",
      "│ dependents__No                            │ 0.769625     │ 0.0                      │ 1.0        │ 1.0                      │ 0        │ Float64  │\n",
      "│ dependents__Yes                           │ 0.230375     │ 0.0                      │ 0.0        │ 1.0                      │ 0        │ Float64  │\n",
      "│ tenure_months                             │ -3.23341e-16 │ -1.28016                 │ -0.139407  │ 1.61246                  │ 0        │ Float64  │\n",
      "│ phone_service__No                         │ 0.0967008    │ 0.0                      │ 0.0        │ 1.0                      │ 0        │ Float64  │\n",
      "│ phone_service__Yes                        │ 0.903299     │ 0.0                      │ 1.0        │ 1.0                      │ 0        │ Float64  │\n",
      "│ multiple_lines__No                        │ 0.481371     │ 0.0                      │ 0.0        │ 1.0                      │ 0        │ Float64  │\n",
      "│ multiple_lines__No phone service          │ 0.0967008    │ 0.0                      │ 0.0        │ 1.0                      │ 0        │ Float64  │\n",
      "│ multiple_lines__Yes                       │ 0.421928     │ 0.0                      │ 0.0        │ 1.0                      │ 0        │ Float64  │\n",
      "│ internet_service__DSL                     │ 0.343572     │ 0.0                      │ 0.0        │ 1.0                      │ 0        │ Float64  │\n",
      "│ internet_service__Fiber optic             │ 0.440273     │ 0.0                      │ 0.0        │ 1.0                      │ 0        │ Float64  │\n",
      "│ internet_service__No                      │ 0.216155     │ 0.0                      │ 0.0        │ 1.0                      │ 0        │ Float64  │\n",
      "│ device_protection__No                     │ 0.439989     │ 0.0                      │ 0.0        │ 1.0                      │ 0        │ Float64  │\n",
      "│ device_protection__No internet service    │ 0.216155     │ 0.0                      │ 0.0        │ 1.0                      │ 0        │ Float64  │\n",
      "│ device_protection__Yes                    │ 0.343857     │ 0.0                      │ 0.0        │ 1.0                      │ 0        │ Float64  │\n",
      "│ tech_support__No                          │ 0.493743     │ 0.0                      │ 0.0        │ 1.0                      │ 0        │ Float64  │\n",
      "│ tech_support__No internet service         │ 0.216155     │ 0.0                      │ 0.0        │ 1.0                      │ 0        │ Float64  │\n",
      "│ tech_support__Yes                         │ 0.290102     │ 0.0                      │ 0.0        │ 1.0                      │ 0        │ Float64  │\n",
      "│ contract__Month-to-month                  │ 0.551052     │ 0.0                      │ 1.0        │ 1.0                      │ 0        │ Float64  │\n",
      "│ contract__One year                        │ 0.209329     │ 0.0                      │ 0.0        │ 1.0                      │ 0        │ Float64  │\n",
      "│ contract__Two year                        │ 0.239619     │ 0.0                      │ 0.0        │ 1.0                      │ 0        │ Float64  │\n",
      "│ paperless_billing__No                     │ 0.407281     │ 0.0                      │ 0.0        │ 1.0                      │ 0        │ Float64  │\n",
      "│ paperless_billing__Yes                    │ 0.592719     │ 0.0                      │ 1.0        │ 1.0                      │ 0        │ Float64  │\n",
      "│ payment_method__Bank transfer (automatic) │ 0.219283     │ 0.0                      │ 0.0        │ 1.0                      │ 0        │ Float64  │\n",
      "│ payment_method__Credit card (automatic)   │ 0.216297     │ 0.0                      │ 0.0        │ 1.0                      │ 0        │ Float64  │\n",
      "│ payment_method__Electronic check          │ 0.33632      │ 0.0                      │ 0.0        │ 1.0                      │ 0        │ Float64  │\n",
      "│ payment_method__Mailed check              │ 0.2281       │ 0.0                      │ 0.0        │ 1.0                      │ 0        │ Float64  │\n",
      "│ monthly_charges                           │ 8.08354e-17  │ -1.54717                 │ 0.184531   │ 1.79325                  │ 0        │ Float64  │\n",
      "│ total_charges                             │ 1.05086e-16  │ -0.998998                │ -0.390787  │ 2.82406                  │ 0        │ Float64  │\n",
      "│ churn_value                               │ 0.265785     │ 0                        │ 0.0        │ 1                        │ 0        │ Int64    │\n",
      "│ cltv                                      │ 2.42506e-17  │ -2.02843                 │ 0.106608   │ 1.77481                  │ 0        │ Float64  │\n",
      "└───────────────────────────────────────────┴──────────────┴──────────────────────────┴────────────┴──────────────────────────┴──────────┴──────────┘\n"
     ]
    }
   ],
   "source": [
    "describe(clean_df_hot_encoded) |> pretty"
   ]
  },
  {
   "cell_type": "markdown",
   "metadata": {},
   "source": [
    "### Save the Preprocessed Data"
   ]
  },
  {
   "cell_type": "code",
   "execution_count": 16,
   "metadata": {},
   "outputs": [
    {
     "data": {
      "text/plain": [
       "\"data/telco_standardized.csv\""
      ]
     },
     "metadata": {},
     "output_type": "display_data"
    }
   ],
   "source": [
    "# Store the one-hot encoded data into a new file\n",
    "CSV.write(\"data/telco_standardized.csv\", clean_df_hot_encoded)"
   ]
  },
  {
   "cell_type": "markdown",
   "metadata": {},
   "source": [
    "### Address Class Imbalance\n",
    "We take into account any potential class imbalance when splitting the data. Two common approaches to address class imbalance that we will use are:\n",
    "1. Undersampling the Majority Class\n",
    "2. Oversampling the Minority Class using Synthetic Minority Over-sampling Technique (SMOTE)\n",
    "\n",
    "We will use both approaches and create two different datasets to compare the results."
   ]
  },
  {
   "cell_type": "code",
   "execution_count": 17,
   "metadata": {},
   "outputs": [
    {
     "data": {
      "text/plain": [
       "0.26578498293515357"
      ]
     },
     "metadata": {},
     "output_type": "display_data"
    }
   ],
   "source": [
    "# Check if there is class imbalance for churn_value\n",
    "churn_value_full = mean(clean_df.churn_value)"
   ]
  },
  {
   "cell_type": "markdown",
   "metadata": {},
   "source": [
    "There is clearly a class imbalance in the target variable. We will use sampling to address this issue."
   ]
  },
  {
   "cell_type": "markdown",
   "metadata": {},
   "source": [
    "#### 1. Undersampling the Majority Class"
   ]
  },
  {
   "cell_type": "code",
   "execution_count": 18,
   "metadata": {},
   "outputs": [
    {
     "data": {
      "text/plain": [
       "(3738, 38)"
      ]
     },
     "metadata": {},
     "output_type": "display_data"
    }
   ],
   "source": [
    "# Select observations so that the classes are balanced\n",
    "df_churn = clean_df_hot_encoded[clean_df_hot_encoded.churn_value .== 1, :]\n",
    "df_no_churn = clean_df_hot_encoded[clean_df_hot_encoded.churn_value .== 0, :]\n",
    "\n",
    "# Number of observations in each class\n",
    "n_churn = size(df_churn, 1)\n",
    "n_no_churn = size(df_no_churn, 1)\n",
    "\n",
    "# Randomly select n_churn observations from df_no_churn\n",
    "df_no_churn = df_no_churn[shuffle(1:n_no_churn)[1:n_churn], :]\n",
    "\n",
    "# Combine the two datasets\n",
    "df_balanced = vcat(df_churn, df_no_churn)\n",
    "\n",
    "# Shuffle the rows\n",
    "df_balanced = df_balanced[shuffle(1:2*n_churn), :]\n",
    "\n",
    "# Summary of the balanced data\n",
    "size(df_balanced)"
   ]
  },
  {
   "cell_type": "code",
   "execution_count": 19,
   "metadata": {},
   "outputs": [
    {
     "data": {
      "text/plain": [
       "Dict{Int64, Int64} with 2 entries:\n",
       "  0 => 1869\n",
       "  1 => 1869"
      ]
     },
     "metadata": {},
     "output_type": "display_data"
    }
   ],
   "source": [
    "# Sanity Check for class imbalance\n",
    "count_by_churn_value = countmap(df_balanced.churn_value)"
   ]
  },
  {
   "cell_type": "markdown",
   "metadata": {},
   "source": [
    "### Store the balanced data in a new CSV file"
   ]
  },
  {
   "cell_type": "code",
   "execution_count": 20,
   "metadata": {},
   "outputs": [
    {
     "data": {
      "text/plain": [
       "\"data/telco_balanced_undersampling.csv\""
      ]
     },
     "metadata": {},
     "output_type": "display_data"
    }
   ],
   "source": [
    "# Save the balanced data into a new file\n",
    "CSV.write(\"data/telco_balanced_undersampling.csv\", df_balanced)"
   ]
  },
  {
   "cell_type": "markdown",
   "metadata": {},
   "source": [
    "#### 2. Oversampling the Minority Class using SMOTE"
   ]
  },
  {
   "cell_type": "code",
   "execution_count": 21,
   "metadata": {},
   "outputs": [
    {
     "name": "stderr",
     "output_type": "stream",
     "text": [
      "\u001b[32mProgress: 100%|█████████████████████████████████████████| Time: 0:00:00\u001b[39m\u001b[K\n"
     ]
    },
    {
     "data": {
      "text/plain": [
       "(10326, 38)"
      ]
     },
     "metadata": {},
     "output_type": "display_data"
    }
   ],
   "source": [
    "# Prepare the data\n",
    "\n",
    "# Create a matrix convert the dataframe to a matrix Float64\n",
    "X = Matrix(clean_df_hot_encoded[!, Not(:churn_value)])\n",
    "y = clean_df_hot_encoded[!, :churn_value]\n",
    "\n",
    "# Apply SMOTE, we will use the default k = 5\n",
    "X_smote, y_smote = smote(X, y, k = 5)\n",
    "\n",
    "df_balanced_smote = DataFrame(X_smote, names(clean_df_hot_encoded[!, Not(:churn_value)]))\n",
    "df_balanced_smote[!, :churn_value] = y_smote\n",
    "\n",
    "# Summary of the SMOTE data\n",
    "size(df_balanced_smote)"
   ]
  },
  {
   "cell_type": "code",
   "execution_count": 22,
   "metadata": {},
   "outputs": [
    {
     "data": {
      "text/plain": [
       "Dict{Int64, Int64} with 2 entries:\n",
       "  0 => 5163\n",
       "  1 => 5163"
      ]
     },
     "metadata": {},
     "output_type": "display_data"
    }
   ],
   "source": [
    "# Sanity Check for class imbalance\n",
    "count_by_churn_value_smote = countmap(df_balanced_smote.churn_value)"
   ]
  },
  {
   "cell_type": "markdown",
   "metadata": {},
   "source": [
    "# Save the balanced SMOTE data in a new CSV file"
   ]
  },
  {
   "cell_type": "code",
   "execution_count": 23,
   "metadata": {},
   "outputs": [
    {
     "data": {
      "text/plain": [
       "\"data/telco_balanced_oversampling.csv\""
      ]
     },
     "metadata": {},
     "output_type": "display_data"
    }
   ],
   "source": [
    "# Save the balanced data into a new file\n",
    "CSV.write(\"data/telco_balanced_oversampling.csv\", df_balanced_smote)"
   ]
  }
 ],
 "metadata": {
  "kernelspec": {
   "display_name": "Julia 1.10.0",
   "language": "julia",
   "name": "julia-1.10"
  },
  "language_info": {
   "file_extension": ".jl",
   "mimetype": "application/julia",
   "name": "julia",
   "version": "1.10.0"
  }
 },
 "nbformat": 4,
 "nbformat_minor": 2
}
